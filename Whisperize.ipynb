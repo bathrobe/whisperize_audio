{
  "cells": [
    {
      "cell_type": "code",
      "execution_count": null,
      "metadata": {},
      "outputs": [],
      "source": [
        "!brew install portaudio\n",
        "!brew install ffmpeg"
      ]
    },
    {
      "cell_type": "code",
      "execution_count": null,
      "metadata": {
        "colab": {
          "base_uri": "https://localhost:8080/"
        },
        "id": "OEIrxyYEGyBv",
        "outputId": "1517a953-34d9-44b7-ac01-e8f9b04da1ff"
      },
      "outputs": [],
      "source": [
        "!pip install pydub nltk pyaudioop\n",
        "!pip install git+https://github.com/openai/whisper.git"
      ]
    },
    {
      "cell_type": "code",
      "execution_count": null,
      "metadata": {},
      "outputs": [],
      "source": [
        "INPUT_FOLDER = \"audio_files\"\n",
        "OUTPUT_FOLDER = \"transcripts\"\n"
      ]
    },
    {
      "cell_type": "code",
      "execution_count": null,
      "metadata": {
        "colab": {
          "base_uri": "https://localhost:8080/"
        },
        "id": "rlAy6evXGwLw",
        "outputId": "eb176a06-c801-4128-bb9a-e6115681d72d"
      },
      "outputs": [],
      "source": [
        "import subprocess\n",
        "import os\n",
        "import whisper\n",
        "import nltk\n",
        "\n",
        "def format_timestamp(ms):\n",
        "    seconds_total = ms // 1000\n",
        "    minutes = seconds_total // 60\n",
        "    seconds = seconds_total % 60\n",
        "    return f\"{minutes:02d}:{seconds:02d}\"\n",
        "\n",
        "def load_audio_model():\n",
        "    model = whisper.load_model(\"base\")\n",
        "    return model\n",
        "\n",
        "def get_audio_chunks_ffmpeg(input_file, output_folder, chunk_length_sec=60):\n",
        "    os.makedirs(output_folder, exist_ok=True)\n",
        "    \n",
        "    # Get audio duration using ffprobe\n",
        "    duration_cmd = f\"ffprobe -v error -show_entries format=duration -of default=noprint_wrappers=1:nokey=1 '{input_file}'\"\n",
        "    duration = float(subprocess.check_output(duration_cmd, shell=True).decode().strip())\n",
        "    \n",
        "    chunk_files = []\n",
        "    for i in range(0, int(duration), chunk_length_sec):\n",
        "        output_file = os.path.join(output_folder, f\"chunk_{i//chunk_length_sec}.wav\")\n",
        "        cmd = f\"ffmpeg -i '{input_file}' -ss {i} -t {chunk_length_sec} -c:a pcm_s16le -ar 16000 '{output_file}' -y\"\n",
        "        subprocess.call(cmd, shell=True, stdout=subprocess.DEVNULL, stderr=subprocess.DEVNULL)\n",
        "        chunk_files.append(output_file)\n",
        "    \n",
        "    return chunk_files\n",
        "\n",
        "def transcribe_chunk(chunk_file, model):\n",
        "    result = model.transcribe(chunk_file)\n",
        "    return {\"text\": result[\"text\"]}\n",
        "\n",
        "def chop_and_transcribe_ffmpeg(input_file, output_folder, lecture_title, chunk_length_sec=60):\n",
        "    model = load_audio_model()\n",
        "    chunks = []\n",
        "    timestamp_transcript = \"\"\n",
        "    plain_transcript = \"\"\n",
        "\n",
        "    chunk_files = get_audio_chunks_ffmpeg(input_file, output_folder, chunk_length_sec)\n",
        "    \n",
        "    for i, chunk_file in enumerate(chunk_files):\n",
        "        result = transcribe_chunk(chunk_file, model)\n",
        "        timestamp = format_timestamp(i * chunk_length_sec * 1000)\n",
        "        timestamped_text = f\"\\n--{timestamp}--\\n{result['text']}\\n\"\n",
        "        chunks.append({\"timestamp\": timestamp, \"content\": result['text']})\n",
        "        timestamp_transcript += timestamped_text\n",
        "        plain_transcript += result['text'] + \" \"\n",
        "\n",
        "    return plain_transcript\n",
        "\n",
        "def process_audio_folder():\n",
        "    # Create output folder if it doesn't exist\n",
        "    os.makedirs(INPUT_FOLDER, exist_ok=True)\n",
        "    os.makedirs(OUTPUT_FOLDER, exist_ok=True)\n",
        "\n",
        "    # Get all supported audio files in the input folder\n",
        "    supported_formats = ('.m4a', '.mp3', '.mp4')\n",
        "    audio_files = [f for f in os.listdir(INPUT_FOLDER) if f.lower().endswith(supported_formats)]\n",
        "\n",
        "    if not audio_files:\n",
        "        print(\"No supported audio files found in the input folder!\")\n",
        "        return\n",
        "\n",
        "    print(f\"Found {len(audio_files)} audio files to process...\")\n",
        "\n",
        "    # Process each audio file\n",
        "    for audio_file in audio_files:\n",
        "        print(f\"Processing {audio_file}...\")\n",
        "        input_path = os.path.join(INPUT_FOLDER, audio_file)\n",
        "\n",
        "        # Get base filename without extension\n",
        "        base_name = os.path.splitext(audio_file)[0]\n",
        "\n",
        "        # Transcribe the audio using ffmpeg\n",
        "        transcript = chop_and_transcribe_ffmpeg(input_path, OUTPUT_FOLDER, base_name)\n",
        "\n",
        "        # Save the transcript\n",
        "        output_path = os.path.join(INPUT_FOLDER, f\"{base_name}.md\")\n",
        "        with open(output_path, 'w', encoding='utf-8') as f:\n",
        "            f.write(transcript)\n",
        "\n",
        "        print(f\"Saved transcript to {output_path}\")"
      ]
    },
    {
      "cell_type": "code",
      "execution_count": null,
      "metadata": {
        "id": "5b4owQPfHLXx"
      },
      "outputs": [],
      "source": [
        "process_audio_folder()"
      ]
    },
    {
      "cell_type": "code",
      "execution_count": null,
      "metadata": {},
      "outputs": [],
      "source": []
    }
  ],
  "metadata": {
    "colab": {
      "provenance": []
    },
    "kernelspec": {
      "display_name": ".venv",
      "language": "python",
      "name": "python3"
    },
    "language_info": {
      "codemirror_mode": {
        "name": "ipython",
        "version": 3
      },
      "file_extension": ".py",
      "mimetype": "text/x-python",
      "name": "python",
      "nbconvert_exporter": "python",
      "pygments_lexer": "ipython3",
      "version": "3.13.3"
    }
  },
  "nbformat": 4,
  "nbformat_minor": 0
}
